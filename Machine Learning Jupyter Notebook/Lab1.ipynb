{
 "cells": [
  {
   "cell_type": "markdown",
   "metadata": {},
   "source": [
    "# Лабораторная работа №1\n",
    "\n",
    "### Выполнена студентом группы БИ-17-2 Якубовым Артёмом\n",
    "\n",
    "#### Ссылка на гитхаб: https://github.com/Aranteus/Python/tree/master/Machine%20Learning%20Jupyter%20Notebook"
   ]
  },
  {
   "cell_type": "markdown",
   "metadata": {},
   "source": [
    "## Задание №1\n",
    "\n",
    "##### Считать файлы из формата CSV. Необходимо правильно настроить разделитель между ячейками и десятичный разделитель."
   ]
  },
  {
   "cell_type": "markdown",
   "metadata": {},
   "source": [
    "Сначала необходимо импортировать библиотеки, которые помогут при выполнении поставленной задачи."
   ]
  },
  {
   "cell_type": "code",
   "execution_count": 853,
   "metadata": {},
   "outputs": [],
   "source": [
    "import pandas as pd\n",
    "from sklearn.linear_model import LogisticRegression\n",
    "from sklearn.model_selection import train_test_split\n",
    "from sklearn.metrics import classification_report\n",
    "import math"
   ]
  },
  {
   "cell_type": "markdown",
   "metadata": {},
   "source": [
    "Загружаем 1-ый файл и просматриваем его."
   ]
  },
  {
   "cell_type": "code",
   "execution_count": 854,
   "metadata": {},
   "outputs": [
    {
     "name": "stdout",
     "output_type": "stream",
     "text": [
      "   CustomerId ActivationDate   Age     Sex  SubscribedEmail  SubscribedPush\n",
      "0     2728183     2015-01-01  21.0  Female            False            True\n",
      "1     2728198     2015-01-01  21.0  Female             True            True\n",
      "2     2728306     2015-01-01  21.0  Female             True            True\n",
      "3     2728178     2015-01-01  22.0    Male             True            True\n",
      "4     2728322     2015-01-01  22.0    Male             True            True\n"
     ]
    }
   ],
   "source": [
    "data_person = pd.read_csv(\"CASC_Constant.csv\")\n",
    "print(data_person.head())"
   ]
  },
  {
   "cell_type": "code",
   "execution_count": 855,
   "metadata": {},
   "outputs": [
    {
     "name": "stdout",
     "output_type": "stream",
     "text": [
      "   CustomerID  Restaurant      RKDate                    RegionName  \\\n",
      "0     2898197         391  2017-07-16  Москва и Московская область    \n",
      "1     2903215          43  2015-04-07  Москва и Московская область    \n",
      "2     2748887          43  2015-05-22  Москва и Московская область    \n",
      "3     2862077          46  2015-03-05  Москва и Московская область    \n",
      "4     2862077          46  2015-03-11  Москва и Московская область    \n",
      "\n",
      "   BrandsNames DishCategoryName  Quantity  SummBasic  SummAfterPointsUsage  \n",
      "0  TGI FRIDAYS      NON ALCOHOL         2        2.0                   2.0  \n",
      "1     IL Патио      NON ALCOHOL         1        5.0                   5.0  \n",
      "2     IL Патио      NON ALCOHOL         1        5.0                   5.0  \n",
      "3     IL Патио      NON ALCOHOL         1        5.0                   5.0  \n",
      "4     IL Патио      NON ALCOHOL         1        5.0                   5.0  \n"
     ]
    }
   ],
   "source": [
    "data_transact = pd.read_csv(\"casc-resto.csv\", sep = ';', decimal = ',')\n",
    "print(data_transact.head())"
   ]
  },
  {
   "cell_type": "markdown",
   "metadata": {},
   "source": [
    "Загружаем 2-ой файл и просматриваем его."
   ]
  },
  {
   "cell_type": "code",
   "execution_count": 856,
   "metadata": {},
   "outputs": [],
   "source": [
    "#data_transact = pd.read_csv(\"casc-resto-small.csv\")\n",
    "#print(data_transact.head())"
   ]
  },
  {
   "cell_type": "markdown",
   "metadata": {},
   "source": [
    "Используем описательную статистику для первичного анализа данных."
   ]
  },
  {
   "cell_type": "code",
   "execution_count": 857,
   "metadata": {},
   "outputs": [
    {
     "name": "stdout",
     "output_type": "stream",
     "text": [
      "         CustomerID     Restaurant       Quantity      SummBasic  \\\n",
      "count  8.822220e+05  882222.000000  882222.000000  882222.000000   \n",
      "mean   2.809199e+06     468.268804       1.154900     287.725795   \n",
      "std    6.178420e+04     279.170967       0.650287     264.555291   \n",
      "min    2.728046e+06      40.000000       0.000000       0.500000   \n",
      "25%    2.754886e+06     333.000000       1.000000     120.000000   \n",
      "50%    2.785104e+06     434.000000       1.000000     225.000000   \n",
      "75%    2.878900e+06     712.000000       1.000000     379.000000   \n",
      "max    2.913132e+06     980.000000     107.000000   29450.000000   \n",
      "\n",
      "       SummAfterPointsUsage  \n",
      "count         882222.000000  \n",
      "mean             260.255589  \n",
      "std              251.289517  \n",
      "min            -2593.000000  \n",
      "25%              110.000000  \n",
      "50%              199.000000  \n",
      "75%              348.940000  \n",
      "max            29450.000000  \n",
      "<class 'pandas.core.frame.DataFrame'>\n",
      "RangeIndex: 882222 entries, 0 to 882221\n",
      "Data columns (total 9 columns):\n",
      "CustomerID              882222 non-null int64\n",
      "Restaurant              882222 non-null int64\n",
      "RKDate                  882222 non-null object\n",
      "RegionName              882222 non-null object\n",
      "BrandsNames             882222 non-null object\n",
      "DishCategoryName        881608 non-null object\n",
      "Quantity                882222 non-null int64\n",
      "SummBasic               882222 non-null float64\n",
      "SummAfterPointsUsage    882222 non-null float64\n",
      "dtypes: float64(2), int64(3), object(4)\n",
      "memory usage: 60.6+ MB\n",
      "None\n"
     ]
    }
   ],
   "source": [
    "print(data_transact.describe())\n",
    "print(data_transact.info())"
   ]
  },
  {
   "cell_type": "markdown",
   "metadata": {},
   "source": [
    "## Задание №2\n",
    "\n",
    "#### Для каждого клиента по транзакционным данным необходимо:\n",
    "\n",
    "1. Зафиксировать дату 2017-07-01 как дату, на которую считаются характеристики клиентов.\n",
    "\n",
    "2. Для каждого клиента определить, совершал ли он визит в период между 2017-07-01 и 2017-12-31 включительно. Полученный флаг является зависимой переменной Y, которую требуется предсказывать\n",
    "\n",
    "3. Для каждого клиента расчитать Recency (количество дней до последнего визита клиента перед зафиксированной датой 2017-07-01), Frequency (средняя частота походов клиентов на дату 2017-07-01, измеряется как среднее количество визитов в месяц [месяц полагать равным 30 дням] за время между 2017-07-01 и первым визитом клиента) и Monetary Value (средний чек клиента по всем покупкам до 2017-07-01). Необходимо помнить, что данные являются реальными данными по москвоским ресторанам. Необходимо проверить на адекватность получаемые значения. Например, не может быть средний чек большого количества клиентов быть меньше 200 рублей, либо частота визитов типичного клиента равно 20 посещениям в месяц.\n",
    "\n",
    "4. Для каждого клиента студенту необходимо самостоятельно придумать и расчитать характеристику клиента по транзакционным данным, которая могла бы помочь предсказывать зависимую переменную Y. Необходимо пояснить, почему выбрана именно эта характеристика.\n",
    "\n",
    "Все задания этого пункта выполняются через «pandas.DataFrame.groupby», т.е. циклы, лямбды и прочие цикло-образные конструкции не должны быть основным способом получения результата по каждому из пунктов (или подпунктов)."
   ]
  },
  {
   "cell_type": "markdown",
   "metadata": {},
   "source": [
    "Пытаюсь понять, чем отличается поле SummAfterPointsUsage от SummBasic, предполагая, что это как-то связано с количеством продуктов.\n",
    "Пришёл к выводу, что общая цена за транзакцию оценивается как произведение количества еды на сумму со скидкой (последний столбец)."
   ]
  },
  {
   "cell_type": "code",
   "execution_count": 858,
   "metadata": {},
   "outputs": [
    {
     "data": {
      "text/html": [
       "<div>\n",
       "<style scoped>\n",
       "    .dataframe tbody tr th:only-of-type {\n",
       "        vertical-align: middle;\n",
       "    }\n",
       "\n",
       "    .dataframe tbody tr th {\n",
       "        vertical-align: top;\n",
       "    }\n",
       "\n",
       "    .dataframe thead th {\n",
       "        text-align: right;\n",
       "    }\n",
       "</style>\n",
       "<table border=\"1\" class=\"dataframe\">\n",
       "  <thead>\n",
       "    <tr style=\"text-align: right;\">\n",
       "      <th></th>\n",
       "      <th>CustomerID</th>\n",
       "      <th>Restaurant</th>\n",
       "      <th>RKDate</th>\n",
       "      <th>RegionName</th>\n",
       "      <th>BrandsNames</th>\n",
       "      <th>DishCategoryName</th>\n",
       "      <th>Quantity</th>\n",
       "      <th>SummBasic</th>\n",
       "      <th>SummAfterPointsUsage</th>\n",
       "    </tr>\n",
       "  </thead>\n",
       "  <tbody>\n",
       "    <tr>\n",
       "      <th>212</th>\n",
       "      <td>2758212</td>\n",
       "      <td>721</td>\n",
       "      <td>2015-06-17</td>\n",
       "      <td>Москва и Московская область</td>\n",
       "      <td>IL Патио,Планета Суши</td>\n",
       "      <td>FOOD</td>\n",
       "      <td>5</td>\n",
       "      <td>9.0</td>\n",
       "      <td>5.07</td>\n",
       "    </tr>\n",
       "    <tr>\n",
       "      <th>222</th>\n",
       "      <td>2750233</td>\n",
       "      <td>40</td>\n",
       "      <td>2016-11-18</td>\n",
       "      <td>Москва и Московская область</td>\n",
       "      <td>Американский Бар и Гриль</td>\n",
       "      <td>FOOD</td>\n",
       "      <td>2</td>\n",
       "      <td>10.0</td>\n",
       "      <td>5.00</td>\n",
       "    </tr>\n",
       "    <tr>\n",
       "      <th>226</th>\n",
       "      <td>2730340</td>\n",
       "      <td>43</td>\n",
       "      <td>2015-01-03</td>\n",
       "      <td>Москва и Московская область</td>\n",
       "      <td>IL Патио</td>\n",
       "      <td>NON ALCOHOL</td>\n",
       "      <td>2</td>\n",
       "      <td>10.0</td>\n",
       "      <td>9.86</td>\n",
       "    </tr>\n",
       "    <tr>\n",
       "      <th>236</th>\n",
       "      <td>2888593</td>\n",
       "      <td>43</td>\n",
       "      <td>2015-05-24</td>\n",
       "      <td>Москва и Московская область</td>\n",
       "      <td>IL Патио</td>\n",
       "      <td>NON ALCOHOL</td>\n",
       "      <td>2</td>\n",
       "      <td>10.0</td>\n",
       "      <td>5.10</td>\n",
       "    </tr>\n",
       "    <tr>\n",
       "      <th>246</th>\n",
       "      <td>2733081</td>\n",
       "      <td>43</td>\n",
       "      <td>2015-08-16</td>\n",
       "      <td>Москва и Московская область</td>\n",
       "      <td>IL Патио</td>\n",
       "      <td>FOOD</td>\n",
       "      <td>2</td>\n",
       "      <td>10.0</td>\n",
       "      <td>6.26</td>\n",
       "    </tr>\n",
       "  </tbody>\n",
       "</table>\n",
       "</div>"
      ],
      "text/plain": [
       "     CustomerID  Restaurant      RKDate                    RegionName  \\\n",
       "212     2758212         721  2015-06-17  Москва и Московская область    \n",
       "222     2750233          40  2016-11-18  Москва и Московская область    \n",
       "226     2730340          43  2015-01-03  Москва и Московская область    \n",
       "236     2888593          43  2015-05-24  Москва и Московская область    \n",
       "246     2733081          43  2015-08-16  Москва и Московская область    \n",
       "\n",
       "                  BrandsNames DishCategoryName  Quantity  SummBasic  \\\n",
       "212     IL Патио,Планета Суши             FOOD         5        9.0   \n",
       "222  Американский Бар и Гриль             FOOD         2       10.0   \n",
       "226                  IL Патио      NON ALCOHOL         2       10.0   \n",
       "236                  IL Патио      NON ALCOHOL         2       10.0   \n",
       "246                  IL Патио             FOOD         2       10.0   \n",
       "\n",
       "     SummAfterPointsUsage  \n",
       "212                  5.07  \n",
       "222                  5.00  \n",
       "226                  9.86  \n",
       "236                  5.10  \n",
       "246                  6.26  "
      ]
     },
     "execution_count": 858,
     "metadata": {},
     "output_type": "execute_result"
    }
   ],
   "source": [
    "data_transact[(data_transact.SummAfterPointsUsage != data_transact.SummBasic) & (data_transact.Quantity != 1)].head()"
   ]
  },
  {
   "cell_type": "markdown",
   "metadata": {},
   "source": [
    "Окончательно убеждаюсь в своих доводах, что в последнем столбце указана цена со скидкой."
   ]
  },
  {
   "cell_type": "code",
   "execution_count": 859,
   "metadata": {},
   "outputs": [
    {
     "data": {
      "text/html": [
       "<div>\n",
       "<style scoped>\n",
       "    .dataframe tbody tr th:only-of-type {\n",
       "        vertical-align: middle;\n",
       "    }\n",
       "\n",
       "    .dataframe tbody tr th {\n",
       "        vertical-align: top;\n",
       "    }\n",
       "\n",
       "    .dataframe thead th {\n",
       "        text-align: right;\n",
       "    }\n",
       "</style>\n",
       "<table border=\"1\" class=\"dataframe\">\n",
       "  <thead>\n",
       "    <tr style=\"text-align: right;\">\n",
       "      <th></th>\n",
       "      <th>CustomerID</th>\n",
       "      <th>Restaurant</th>\n",
       "      <th>RKDate</th>\n",
       "      <th>RegionName</th>\n",
       "      <th>BrandsNames</th>\n",
       "      <th>DishCategoryName</th>\n",
       "      <th>Quantity</th>\n",
       "      <th>SummBasic</th>\n",
       "      <th>SummAfterPointsUsage</th>\n",
       "    </tr>\n",
       "  </thead>\n",
       "  <tbody>\n",
       "    <tr>\n",
       "      <th>421338</th>\n",
       "      <td>2745922</td>\n",
       "      <td>752</td>\n",
       "      <td>2017-04-29</td>\n",
       "      <td>Санкт-Петербург и Ленинградская область</td>\n",
       "      <td>IL Патио,Планета Суши</td>\n",
       "      <td>FOOD</td>\n",
       "      <td>1</td>\n",
       "      <td>359.0</td>\n",
       "      <td>359.03</td>\n",
       "    </tr>\n",
       "  </tbody>\n",
       "</table>\n",
       "</div>"
      ],
      "text/plain": [
       "        CustomerID  Restaurant      RKDate  \\\n",
       "421338     2745922         752  2017-04-29   \n",
       "\n",
       "                                      RegionName            BrandsNames  \\\n",
       "421338  Санкт-Петербург и Ленинградская область   IL Патио,Планета Суши   \n",
       "\n",
       "       DishCategoryName  Quantity  SummBasic  SummAfterPointsUsage  \n",
       "421338             FOOD         1      359.0                359.03  "
      ]
     },
     "execution_count": 859,
     "metadata": {},
     "output_type": "execute_result"
    }
   ],
   "source": [
    "data_transact[data_transact.SummAfterPointsUsage > data_transact.SummBasic]"
   ]
  },
  {
   "cell_type": "markdown",
   "metadata": {},
   "source": [
    "Меняю тип столбца RKDate со строкового на дату, чтобы было легче с ней работать, и проверяю, что изменения прошли успешно."
   ]
  },
  {
   "cell_type": "code",
   "execution_count": 860,
   "metadata": {},
   "outputs": [
    {
     "name": "stdout",
     "output_type": "stream",
     "text": [
      "   CustomerID  Restaurant     RKDate                    RegionName  \\\n",
      "0     2898197         391 2017-07-16  Москва и Московская область    \n",
      "1     2903215          43 2015-04-07  Москва и Московская область    \n",
      "2     2748887          43 2015-05-22  Москва и Московская область    \n",
      "3     2862077          46 2015-03-05  Москва и Московская область    \n",
      "4     2862077          46 2015-03-11  Москва и Московская область    \n",
      "\n",
      "   BrandsNames DishCategoryName  Quantity  SummBasic  SummAfterPointsUsage  \n",
      "0  TGI FRIDAYS      NON ALCOHOL         2        2.0                   2.0  \n",
      "1     IL Патио      NON ALCOHOL         1        5.0                   5.0  \n",
      "2     IL Патио      NON ALCOHOL         1        5.0                   5.0  \n",
      "3     IL Патио      NON ALCOHOL         1        5.0                   5.0  \n",
      "4     IL Патио      NON ALCOHOL         1        5.0                   5.0  \n"
     ]
    },
    {
     "data": {
      "text/plain": [
       "pandas._libs.tslibs.timestamps.Timestamp"
      ]
     },
     "execution_count": 860,
     "metadata": {},
     "output_type": "execute_result"
    }
   ],
   "source": [
    "data_transact.RKDate = pd.to_datetime(data_transact.RKDate)\n",
    "print(data_transact.head())\n",
    "type(data_transact.RKDate[0])"
   ]
  },
  {
   "cell_type": "markdown",
   "metadata": {},
   "source": [
    "Сортирую данные по дате и узнаю последнюю дату."
   ]
  },
  {
   "cell_type": "code",
   "execution_count": 861,
   "metadata": {},
   "outputs": [
    {
     "data": {
      "text/html": [
       "<div>\n",
       "<style scoped>\n",
       "    .dataframe tbody tr th:only-of-type {\n",
       "        vertical-align: middle;\n",
       "    }\n",
       "\n",
       "    .dataframe tbody tr th {\n",
       "        vertical-align: top;\n",
       "    }\n",
       "\n",
       "    .dataframe thead th {\n",
       "        text-align: right;\n",
       "    }\n",
       "</style>\n",
       "<table border=\"1\" class=\"dataframe\">\n",
       "  <thead>\n",
       "    <tr style=\"text-align: right;\">\n",
       "      <th></th>\n",
       "      <th>CustomerID</th>\n",
       "      <th>Restaurant</th>\n",
       "      <th>RKDate</th>\n",
       "      <th>RegionName</th>\n",
       "      <th>BrandsNames</th>\n",
       "      <th>DishCategoryName</th>\n",
       "      <th>Quantity</th>\n",
       "      <th>SummBasic</th>\n",
       "      <th>SummAfterPointsUsage</th>\n",
       "    </tr>\n",
       "  </thead>\n",
       "  <tbody>\n",
       "    <tr>\n",
       "      <th>684746</th>\n",
       "      <td>2898779</td>\n",
       "      <td>354</td>\n",
       "      <td>2017-12-31</td>\n",
       "      <td>Москва и Московская область</td>\n",
       "      <td>Costa Coffee</td>\n",
       "      <td>КОМИССИЯ МОРОЖ</td>\n",
       "      <td>1</td>\n",
       "      <td>99.0</td>\n",
       "      <td>99.00</td>\n",
       "    </tr>\n",
       "    <tr>\n",
       "      <th>684747</th>\n",
       "      <td>2898779</td>\n",
       "      <td>354</td>\n",
       "      <td>2017-12-31</td>\n",
       "      <td>Москва и Московская область</td>\n",
       "      <td>Costa Coffee</td>\n",
       "      <td>КОМИССИЯ МОРОЖ</td>\n",
       "      <td>1</td>\n",
       "      <td>99.0</td>\n",
       "      <td>99.00</td>\n",
       "    </tr>\n",
       "    <tr>\n",
       "      <th>833588</th>\n",
       "      <td>2728838</td>\n",
       "      <td>440</td>\n",
       "      <td>2017-12-31</td>\n",
       "      <td>Москва и Московская область</td>\n",
       "      <td>TGI FRIDAYS</td>\n",
       "      <td>FOOD</td>\n",
       "      <td>1</td>\n",
       "      <td>430.0</td>\n",
       "      <td>430.00</td>\n",
       "    </tr>\n",
       "    <tr>\n",
       "      <th>667073</th>\n",
       "      <td>2821630</td>\n",
       "      <td>463</td>\n",
       "      <td>2017-12-31</td>\n",
       "      <td>Москва и Московская область</td>\n",
       "      <td>TGI FRIDAYS</td>\n",
       "      <td>FOOD</td>\n",
       "      <td>1</td>\n",
       "      <td>599.0</td>\n",
       "      <td>422.36</td>\n",
       "    </tr>\n",
       "    <tr>\n",
       "      <th>580103</th>\n",
       "      <td>2907562</td>\n",
       "      <td>553</td>\n",
       "      <td>2017-12-31</td>\n",
       "      <td>Казань</td>\n",
       "      <td>IL Патио</td>\n",
       "      <td>FOOD</td>\n",
       "      <td>1</td>\n",
       "      <td>595.0</td>\n",
       "      <td>595.00</td>\n",
       "    </tr>\n",
       "  </tbody>\n",
       "</table>\n",
       "</div>"
      ],
      "text/plain": [
       "        CustomerID  Restaurant     RKDate                    RegionName  \\\n",
       "684746     2898779         354 2017-12-31  Москва и Московская область    \n",
       "684747     2898779         354 2017-12-31  Москва и Московская область    \n",
       "833588     2728838         440 2017-12-31  Москва и Московская область    \n",
       "667073     2821630         463 2017-12-31  Москва и Московская область    \n",
       "580103     2907562         553 2017-12-31                        Казань   \n",
       "\n",
       "         BrandsNames DishCategoryName  Quantity  SummBasic  \\\n",
       "684746  Costa Coffee   КОМИССИЯ МОРОЖ         1       99.0   \n",
       "684747  Costa Coffee   КОМИССИЯ МОРОЖ         1       99.0   \n",
       "833588   TGI FRIDAYS             FOOD         1      430.0   \n",
       "667073   TGI FRIDAYS             FOOD         1      599.0   \n",
       "580103      IL Патио             FOOD         1      595.0   \n",
       "\n",
       "        SummAfterPointsUsage  \n",
       "684746                 99.00  \n",
       "684747                 99.00  \n",
       "833588                430.00  \n",
       "667073                422.36  \n",
       "580103                595.00  "
      ]
     },
     "execution_count": 861,
     "metadata": {},
     "output_type": "execute_result"
    }
   ],
   "source": [
    "data_transact = data_transact.sort_values(\"RKDate\")\n",
    "data_transact.tail()"
   ]
  },
  {
   "cell_type": "markdown",
   "metadata": {},
   "source": [
    "Узнаю, есть ли данные на фиксированной дате."
   ]
  },
  {
   "cell_type": "code",
   "execution_count": 862,
   "metadata": {},
   "outputs": [
    {
     "data": {
      "text/html": [
       "<div>\n",
       "<style scoped>\n",
       "    .dataframe tbody tr th:only-of-type {\n",
       "        vertical-align: middle;\n",
       "    }\n",
       "\n",
       "    .dataframe tbody tr th {\n",
       "        vertical-align: top;\n",
       "    }\n",
       "\n",
       "    .dataframe thead th {\n",
       "        text-align: right;\n",
       "    }\n",
       "</style>\n",
       "<table border=\"1\" class=\"dataframe\">\n",
       "  <thead>\n",
       "    <tr style=\"text-align: right;\">\n",
       "      <th></th>\n",
       "      <th>CustomerID</th>\n",
       "      <th>Restaurant</th>\n",
       "      <th>RKDate</th>\n",
       "      <th>RegionName</th>\n",
       "      <th>BrandsNames</th>\n",
       "      <th>DishCategoryName</th>\n",
       "      <th>Quantity</th>\n",
       "      <th>SummBasic</th>\n",
       "      <th>SummAfterPointsUsage</th>\n",
       "    </tr>\n",
       "  </thead>\n",
       "  <tbody>\n",
       "    <tr>\n",
       "      <th>269087</th>\n",
       "      <td>2831289</td>\n",
       "      <td>93</td>\n",
       "      <td>2017-07-01</td>\n",
       "      <td>Москва и Московская область</td>\n",
       "      <td>IL Патио</td>\n",
       "      <td>FOOD</td>\n",
       "      <td>1</td>\n",
       "      <td>65.0</td>\n",
       "      <td>48.73</td>\n",
       "    </tr>\n",
       "    <tr>\n",
       "      <th>253001</th>\n",
       "      <td>2887910</td>\n",
       "      <td>925</td>\n",
       "      <td>2017-07-01</td>\n",
       "      <td>Москва и Московская область</td>\n",
       "      <td>IL Патио,Планета Суши</td>\n",
       "      <td>FOOD</td>\n",
       "      <td>1</td>\n",
       "      <td>435.0</td>\n",
       "      <td>326.18</td>\n",
       "    </tr>\n",
       "    <tr>\n",
       "      <th>168009</th>\n",
       "      <td>2811579</td>\n",
       "      <td>727</td>\n",
       "      <td>2017-07-01</td>\n",
       "      <td>Москва и Московская область</td>\n",
       "      <td>IL Патио</td>\n",
       "      <td>FOOD</td>\n",
       "      <td>1</td>\n",
       "      <td>385.0</td>\n",
       "      <td>288.77</td>\n",
       "    </tr>\n",
       "    <tr>\n",
       "      <th>382746</th>\n",
       "      <td>2887910</td>\n",
       "      <td>925</td>\n",
       "      <td>2017-07-01</td>\n",
       "      <td>Москва и Московская область</td>\n",
       "      <td>IL Патио,Планета Суши</td>\n",
       "      <td>NON ALCOHOL</td>\n",
       "      <td>1</td>\n",
       "      <td>219.0</td>\n",
       "      <td>164.21</td>\n",
       "    </tr>\n",
       "    <tr>\n",
       "      <th>364392</th>\n",
       "      <td>2905704</td>\n",
       "      <td>295</td>\n",
       "      <td>2017-07-01</td>\n",
       "      <td>Москва и Московская область</td>\n",
       "      <td>Шикари</td>\n",
       "      <td>FOOD</td>\n",
       "      <td>1</td>\n",
       "      <td>155.0</td>\n",
       "      <td>116.19</td>\n",
       "    </tr>\n",
       "  </tbody>\n",
       "</table>\n",
       "</div>"
      ],
      "text/plain": [
       "        CustomerID  Restaurant     RKDate                    RegionName  \\\n",
       "269087     2831289          93 2017-07-01  Москва и Московская область    \n",
       "253001     2887910         925 2017-07-01  Москва и Московская область    \n",
       "168009     2811579         727 2017-07-01  Москва и Московская область    \n",
       "382746     2887910         925 2017-07-01  Москва и Московская область    \n",
       "364392     2905704         295 2017-07-01  Москва и Московская область    \n",
       "\n",
       "                  BrandsNames DishCategoryName  Quantity  SummBasic  \\\n",
       "269087               IL Патио             FOOD         1       65.0   \n",
       "253001  IL Патио,Планета Суши             FOOD         1      435.0   \n",
       "168009               IL Патио             FOOD         1      385.0   \n",
       "382746  IL Патио,Планета Суши      NON ALCOHOL         1      219.0   \n",
       "364392                 Шикари             FOOD         1      155.0   \n",
       "\n",
       "        SummAfterPointsUsage  \n",
       "269087                 48.73  \n",
       "253001                326.18  \n",
       "168009                288.77  \n",
       "382746                164.21  \n",
       "364392                116.19  "
      ]
     },
     "execution_count": 862,
     "metadata": {},
     "output_type": "execute_result"
    }
   ],
   "source": [
    "fix_date = pd.to_datetime('2017-07-01')\n",
    "data_transact[data_transact.RKDate == fix_date].head()"
   ]
  },
  {
   "cell_type": "markdown",
   "metadata": {},
   "source": [
    "Узнаю, есть ли данные после фиксированной даты."
   ]
  },
  {
   "cell_type": "code",
   "execution_count": 863,
   "metadata": {},
   "outputs": [
    {
     "data": {
      "text/html": [
       "<div>\n",
       "<style scoped>\n",
       "    .dataframe tbody tr th:only-of-type {\n",
       "        vertical-align: middle;\n",
       "    }\n",
       "\n",
       "    .dataframe tbody tr th {\n",
       "        vertical-align: top;\n",
       "    }\n",
       "\n",
       "    .dataframe thead th {\n",
       "        text-align: right;\n",
       "    }\n",
       "</style>\n",
       "<table border=\"1\" class=\"dataframe\">\n",
       "  <thead>\n",
       "    <tr style=\"text-align: right;\">\n",
       "      <th></th>\n",
       "      <th>CustomerID</th>\n",
       "      <th>Restaurant</th>\n",
       "      <th>RKDate</th>\n",
       "      <th>RegionName</th>\n",
       "      <th>BrandsNames</th>\n",
       "      <th>DishCategoryName</th>\n",
       "      <th>Quantity</th>\n",
       "      <th>SummBasic</th>\n",
       "      <th>SummAfterPointsUsage</th>\n",
       "    </tr>\n",
       "  </thead>\n",
       "  <tbody>\n",
       "    <tr>\n",
       "      <th>269087</th>\n",
       "      <td>2831289</td>\n",
       "      <td>93</td>\n",
       "      <td>2017-07-01</td>\n",
       "      <td>Москва и Московская область</td>\n",
       "      <td>IL Патио</td>\n",
       "      <td>FOOD</td>\n",
       "      <td>1</td>\n",
       "      <td>65.0</td>\n",
       "      <td>48.73</td>\n",
       "    </tr>\n",
       "    <tr>\n",
       "      <th>253001</th>\n",
       "      <td>2887910</td>\n",
       "      <td>925</td>\n",
       "      <td>2017-07-01</td>\n",
       "      <td>Москва и Московская область</td>\n",
       "      <td>IL Патио,Планета Суши</td>\n",
       "      <td>FOOD</td>\n",
       "      <td>1</td>\n",
       "      <td>435.0</td>\n",
       "      <td>326.18</td>\n",
       "    </tr>\n",
       "    <tr>\n",
       "      <th>168009</th>\n",
       "      <td>2811579</td>\n",
       "      <td>727</td>\n",
       "      <td>2017-07-01</td>\n",
       "      <td>Москва и Московская область</td>\n",
       "      <td>IL Патио</td>\n",
       "      <td>FOOD</td>\n",
       "      <td>1</td>\n",
       "      <td>385.0</td>\n",
       "      <td>288.77</td>\n",
       "    </tr>\n",
       "    <tr>\n",
       "      <th>382746</th>\n",
       "      <td>2887910</td>\n",
       "      <td>925</td>\n",
       "      <td>2017-07-01</td>\n",
       "      <td>Москва и Московская область</td>\n",
       "      <td>IL Патио,Планета Суши</td>\n",
       "      <td>NON ALCOHOL</td>\n",
       "      <td>1</td>\n",
       "      <td>219.0</td>\n",
       "      <td>164.21</td>\n",
       "    </tr>\n",
       "    <tr>\n",
       "      <th>364392</th>\n",
       "      <td>2905704</td>\n",
       "      <td>295</td>\n",
       "      <td>2017-07-01</td>\n",
       "      <td>Москва и Московская область</td>\n",
       "      <td>Шикари</td>\n",
       "      <td>FOOD</td>\n",
       "      <td>1</td>\n",
       "      <td>155.0</td>\n",
       "      <td>116.19</td>\n",
       "    </tr>\n",
       "  </tbody>\n",
       "</table>\n",
       "</div>"
      ],
      "text/plain": [
       "        CustomerID  Restaurant     RKDate                    RegionName  \\\n",
       "269087     2831289          93 2017-07-01  Москва и Московская область    \n",
       "253001     2887910         925 2017-07-01  Москва и Московская область    \n",
       "168009     2811579         727 2017-07-01  Москва и Московская область    \n",
       "382746     2887910         925 2017-07-01  Москва и Московская область    \n",
       "364392     2905704         295 2017-07-01  Москва и Московская область    \n",
       "\n",
       "                  BrandsNames DishCategoryName  Quantity  SummBasic  \\\n",
       "269087               IL Патио             FOOD         1       65.0   \n",
       "253001  IL Патио,Планета Суши             FOOD         1      435.0   \n",
       "168009               IL Патио             FOOD         1      385.0   \n",
       "382746  IL Патио,Планета Суши      NON ALCOHOL         1      219.0   \n",
       "364392                 Шикари             FOOD         1      155.0   \n",
       "\n",
       "        SummAfterPointsUsage  \n",
       "269087                 48.73  \n",
       "253001                326.18  \n",
       "168009                288.77  \n",
       "382746                164.21  \n",
       "364392                116.19  "
      ]
     },
     "execution_count": 863,
     "metadata": {},
     "output_type": "execute_result"
    }
   ],
   "source": [
    "data_transact[data_transact.RKDate >= fix_date].head()"
   ]
  },
  {
   "cell_type": "markdown",
   "metadata": {},
   "source": [
    "Создаю новую переменную для содержания в ней данных о транзакциях между фиксированной датой и концом года для того, чтобы узнать, совершались ли в этот период транзакции для каждого клиента."
   ]
  },
  {
   "cell_type": "code",
   "execution_count": 864,
   "metadata": {},
   "outputs": [],
   "source": [
    "rkdate = data_transact.RKDate[(data_transact.RKDate >= fix_date) & (data_transact.RKDate <= pd.to_datetime('2017-12-31'))]"
   ]
  },
  {
   "cell_type": "markdown",
   "metadata": {},
   "source": [
    "Создаём группу для того, чтобы узнать какие клиенты и сколько раз посещали ресторан в последние полгода."
   ]
  },
  {
   "cell_type": "code",
   "execution_count": 865,
   "metadata": {},
   "outputs": [
    {
     "data": {
      "text/html": [
       "<div>\n",
       "<style scoped>\n",
       "    .dataframe tbody tr th:only-of-type {\n",
       "        vertical-align: middle;\n",
       "    }\n",
       "\n",
       "    .dataframe tbody tr th {\n",
       "        vertical-align: top;\n",
       "    }\n",
       "\n",
       "    .dataframe thead th {\n",
       "        text-align: right;\n",
       "    }\n",
       "</style>\n",
       "<table border=\"1\" class=\"dataframe\">\n",
       "  <thead>\n",
       "    <tr style=\"text-align: right;\">\n",
       "      <th></th>\n",
       "      <th>CustomerID</th>\n",
       "      <th>RKDate</th>\n",
       "      <th>Restaurant</th>\n",
       "    </tr>\n",
       "  </thead>\n",
       "  <tbody>\n",
       "    <tr>\n",
       "      <th>0</th>\n",
       "      <td>2728089</td>\n",
       "      <td>2017-07-02</td>\n",
       "      <td>6</td>\n",
       "    </tr>\n",
       "    <tr>\n",
       "      <th>1</th>\n",
       "      <td>2728107</td>\n",
       "      <td>2017-11-05</td>\n",
       "      <td>7</td>\n",
       "    </tr>\n",
       "    <tr>\n",
       "      <th>2</th>\n",
       "      <td>2728135</td>\n",
       "      <td>2017-08-09</td>\n",
       "      <td>3</td>\n",
       "    </tr>\n",
       "    <tr>\n",
       "      <th>3</th>\n",
       "      <td>2728135</td>\n",
       "      <td>2017-10-21</td>\n",
       "      <td>11</td>\n",
       "    </tr>\n",
       "    <tr>\n",
       "      <th>4</th>\n",
       "      <td>2728135</td>\n",
       "      <td>2017-12-28</td>\n",
       "      <td>11</td>\n",
       "    </tr>\n",
       "    <tr>\n",
       "      <th>...</th>\n",
       "      <td>...</td>\n",
       "      <td>...</td>\n",
       "      <td>...</td>\n",
       "    </tr>\n",
       "    <tr>\n",
       "      <th>18250</th>\n",
       "      <td>2913123</td>\n",
       "      <td>2017-12-12</td>\n",
       "      <td>5</td>\n",
       "    </tr>\n",
       "    <tr>\n",
       "      <th>18251</th>\n",
       "      <td>2913123</td>\n",
       "      <td>2017-12-26</td>\n",
       "      <td>4</td>\n",
       "    </tr>\n",
       "    <tr>\n",
       "      <th>18252</th>\n",
       "      <td>2913123</td>\n",
       "      <td>2017-12-27</td>\n",
       "      <td>4</td>\n",
       "    </tr>\n",
       "    <tr>\n",
       "      <th>18253</th>\n",
       "      <td>2913132</td>\n",
       "      <td>2017-08-03</td>\n",
       "      <td>7</td>\n",
       "    </tr>\n",
       "    <tr>\n",
       "      <th>18254</th>\n",
       "      <td>2913132</td>\n",
       "      <td>2017-10-05</td>\n",
       "      <td>5</td>\n",
       "    </tr>\n",
       "  </tbody>\n",
       "</table>\n",
       "<p>18255 rows × 3 columns</p>\n",
       "</div>"
      ],
      "text/plain": [
       "       CustomerID     RKDate  Restaurant\n",
       "0         2728089 2017-07-02           6\n",
       "1         2728107 2017-11-05           7\n",
       "2         2728135 2017-08-09           3\n",
       "3         2728135 2017-10-21          11\n",
       "4         2728135 2017-12-28          11\n",
       "...           ...        ...         ...\n",
       "18250     2913123 2017-12-12           5\n",
       "18251     2913123 2017-12-26           4\n",
       "18252     2913123 2017-12-27           4\n",
       "18253     2913132 2017-08-03           7\n",
       "18254     2913132 2017-10-05           5\n",
       "\n",
       "[18255 rows x 3 columns]"
      ]
     },
     "execution_count": 865,
     "metadata": {},
     "output_type": "execute_result"
    }
   ],
   "source": [
    "gb = data_transact.groupby([\"CustomerID\", rkdate]).count()['Restaurant'].to_frame().reset_index()\n",
    "gb"
   ]
  },
  {
   "cell_type": "markdown",
   "metadata": {},
   "source": [
    "Достаём уникальные ID из датафрейма и отсортируем их."
   ]
  },
  {
   "cell_type": "code",
   "execution_count": 866,
   "metadata": {},
   "outputs": [],
   "source": [
    "data = pd.DataFrame()\n",
    "data[\"Customer\"] = data_transact.CustomerID.unique()\n",
    "data = data.sort_values(\"Customer\")"
   ]
  },
  {
   "cell_type": "markdown",
   "metadata": {},
   "source": [
    "Достаём ID клиентов, посещавших рестораны в последние полгода из группы, и присваиваем им 1 в датасете со всеми клиентами. Проверяем, что все клиенты отметились."
   ]
  },
  {
   "cell_type": "code",
   "execution_count": 867,
   "metadata": {},
   "outputs": [
    {
     "name": "stdout",
     "output_type": "stream",
     "text": [
      "4644\n",
      "5356\n",
      "10000\n"
     ]
    }
   ],
   "source": [
    "c_values = gb.CustomerID.values\n",
    "data[\"Y\"] = [1 if data[\"Customer\"][i] in c_values else 0 for i in range(len(data))]\n",
    "print(len(data[data.Y == True]))\n",
    "print(len(data[data.Y == False]))\n",
    "print(len(data))"
   ]
  },
  {
   "cell_type": "markdown",
   "metadata": {},
   "source": [
    "Достаём ID клиентов с последним посещением ресторана до фиксированной даты. Превращаем разницу дат в дни и записываем в датафрейм."
   ]
  },
  {
   "cell_type": "code",
   "execution_count": 868,
   "metadata": {},
   "outputs": [
    {
     "data": {
      "text/plain": [
       "29      160\n",
       "13      720\n",
       "18       15\n",
       "6       177\n",
       "16      115\n",
       "       ... \n",
       "7395      0\n",
       "7441      0\n",
       "7417      0\n",
       "7394      0\n",
       "9724      0\n",
       "Name: Recency, Length: 10000, dtype: int64"
      ]
     },
     "execution_count": 868,
     "metadata": {},
     "output_type": "execute_result"
    }
   ],
   "source": [
    "new_df = data_transact[[\"CustomerID\", \"RKDate\"]]\n",
    "new_df = new_df[new_df[\"RKDate\"] < fix_date]\n",
    "group = new_df.groupby(\"CustomerID\").max().reset_index()\n",
    "g_values = group.CustomerID.values\n",
    "data[\"Recency\"] = [(fix_date - group[\"RKDate\"][i]).days if data[\"Customer\"][i] in g_values else 0 for i in range(len(data))]\n",
    "data[\"Recency\"]"
   ]
  },
  {
   "cell_type": "markdown",
   "metadata": {},
   "source": [
    "Считаем количество посещений ресторана для каждого клиента в каждом месяце каждого года. Высчитываем среднее значение для каждой группы и записываем в датафрейм."
   ]
  },
  {
   "cell_type": "code",
   "execution_count": 869,
   "metadata": {},
   "outputs": [
    {
     "name": "stdout",
     "output_type": "stream",
     "text": [
      "29       6.333333\n",
      "13      11.333333\n",
      "18       5.500000\n",
      "6        8.250000\n",
      "16       5.250000\n",
      "          ...    \n",
      "7395     0.000000\n",
      "7441     0.000000\n",
      "7417     0.000000\n",
      "7394     0.000000\n",
      "9724     0.000000\n",
      "Name: Frequency, Length: 10000, dtype: float64\n"
     ]
    }
   ],
   "source": [
    "df_freq = data_transact[[\"CustomerID\", \"RKDate\", \"Restaurant\"]]\n",
    "df_freq = df_freq[df_freq[\"RKDate\"] < fix_date]\n",
    "group_count = df_freq.groupby([\"CustomerID\", df_freq[\"RKDate\"].dt.year, df_freq[\"RKDate\"].dt.month, \"Restaurant\"]).count()\n",
    "group_mean = group_count.groupby([\"CustomerID\"])[\"RKDate\"].mean().reset_index()\n",
    "g_values = group_mean.CustomerID.values\n",
    "data[\"Frequency\"] = [group_mean[\"RKDate\"][i] if data[\"Customer\"][i] in g_values else 0 for i in range(len(data))]\n",
    "print(data[\"Frequency\"])"
   ]
  },
  {
   "cell_type": "markdown",
   "metadata": {},
   "source": [
    "Считаем сумму транзакций для клиентов и записываеи в датафрейм."
   ]
  },
  {
   "cell_type": "code",
   "execution_count": 870,
   "metadata": {},
   "outputs": [
    {
     "data": {
      "text/html": [
       "<div>\n",
       "<style scoped>\n",
       "    .dataframe tbody tr th:only-of-type {\n",
       "        vertical-align: middle;\n",
       "    }\n",
       "\n",
       "    .dataframe tbody tr th {\n",
       "        vertical-align: top;\n",
       "    }\n",
       "\n",
       "    .dataframe thead th {\n",
       "        text-align: right;\n",
       "    }\n",
       "</style>\n",
       "<table border=\"1\" class=\"dataframe\">\n",
       "  <thead>\n",
       "    <tr style=\"text-align: right;\">\n",
       "      <th></th>\n",
       "      <th>Customer</th>\n",
       "      <th>Y</th>\n",
       "      <th>Recency</th>\n",
       "      <th>Frequency</th>\n",
       "      <th>Monetary Value</th>\n",
       "    </tr>\n",
       "  </thead>\n",
       "  <tbody>\n",
       "    <tr>\n",
       "      <th>29</th>\n",
       "      <td>2728046</td>\n",
       "      <td>0</td>\n",
       "      <td>160</td>\n",
       "      <td>6.333333</td>\n",
       "      <td>1743.555556</td>\n",
       "    </tr>\n",
       "    <tr>\n",
       "      <th>13</th>\n",
       "      <td>2728088</td>\n",
       "      <td>1</td>\n",
       "      <td>720</td>\n",
       "      <td>11.333333</td>\n",
       "      <td>2377.000000</td>\n",
       "    </tr>\n",
       "    <tr>\n",
       "      <th>18</th>\n",
       "      <td>2728089</td>\n",
       "      <td>0</td>\n",
       "      <td>15</td>\n",
       "      <td>5.500000</td>\n",
       "      <td>3441.200000</td>\n",
       "    </tr>\n",
       "    <tr>\n",
       "      <th>6</th>\n",
       "      <td>2728095</td>\n",
       "      <td>0</td>\n",
       "      <td>177</td>\n",
       "      <td>8.250000</td>\n",
       "      <td>2572.910000</td>\n",
       "    </tr>\n",
       "    <tr>\n",
       "      <th>16</th>\n",
       "      <td>2728107</td>\n",
       "      <td>0</td>\n",
       "      <td>115</td>\n",
       "      <td>5.250000</td>\n",
       "      <td>3227.610000</td>\n",
       "    </tr>\n",
       "  </tbody>\n",
       "</table>\n",
       "</div>"
      ],
      "text/plain": [
       "    Customer  Y  Recency  Frequency  Monetary Value\n",
       "29   2728046  0      160   6.333333     1743.555556\n",
       "13   2728088  1      720  11.333333     2377.000000\n",
       "18   2728089  0       15   5.500000     3441.200000\n",
       "6    2728095  0      177   8.250000     2572.910000\n",
       "16   2728107  0      115   5.250000     3227.610000"
      ]
     },
     "execution_count": 870,
     "metadata": {},
     "output_type": "execute_result"
    }
   ],
   "source": [
    "data_monetary = data_transact[[\"CustomerID\", \"SummAfterPointsUsage\", \"Quantity\", \"RKDate\", \"Restaurant\"]]\n",
    "data_monetary = data_monetary[data_monetary.RKDate < fix_date]\n",
    "data_monetary[\"Sum\"] = data_monetary.SummAfterPointsUsage * data_monetary.Quantity\n",
    "data_monetary = data_monetary[[\"CustomerID\", \"Sum\", \"Restaurant\", \"RKDate\"]]\n",
    "group_max = data_monetary.groupby([\"CustomerID\", \"Restaurant\", \"RKDate\"])[\"Sum\"].sum().reset_index()\n",
    "group_money = group_max.groupby([\"CustomerID\"])[\"Sum\"].mean().reset_index()\n",
    "m_values = group_money.CustomerID.values\n",
    "data[\"Monetary Value\"] = [group_money[\"Sum\"][i] if data[\"Customer\"][i] in m_values else 0 for i in range(len(data))]\n",
    "data.head()"
   ]
  },
  {
   "cell_type": "markdown",
   "metadata": {},
   "source": [
    "Считаем максимальную сумму транзакции для каждого клиента, потому что она возможно может повлиять на посещение людьми ресторанов."
   ]
  },
  {
   "cell_type": "code",
   "execution_count": 871,
   "metadata": {},
   "outputs": [
    {
     "data": {
      "text/html": [
       "<div>\n",
       "<style scoped>\n",
       "    .dataframe tbody tr th:only-of-type {\n",
       "        vertical-align: middle;\n",
       "    }\n",
       "\n",
       "    .dataframe tbody tr th {\n",
       "        vertical-align: top;\n",
       "    }\n",
       "\n",
       "    .dataframe thead th {\n",
       "        text-align: right;\n",
       "    }\n",
       "</style>\n",
       "<table border=\"1\" class=\"dataframe\">\n",
       "  <thead>\n",
       "    <tr style=\"text-align: right;\">\n",
       "      <th></th>\n",
       "      <th>Customer</th>\n",
       "      <th>Y</th>\n",
       "      <th>Recency</th>\n",
       "      <th>Frequency</th>\n",
       "      <th>Monetary Value</th>\n",
       "      <th>Max Value</th>\n",
       "    </tr>\n",
       "  </thead>\n",
       "  <tbody>\n",
       "    <tr>\n",
       "      <th>29</th>\n",
       "      <td>2728046</td>\n",
       "      <td>0</td>\n",
       "      <td>160</td>\n",
       "      <td>6.333333</td>\n",
       "      <td>1743.555556</td>\n",
       "      <td>4230.0</td>\n",
       "    </tr>\n",
       "    <tr>\n",
       "      <th>13</th>\n",
       "      <td>2728088</td>\n",
       "      <td>1</td>\n",
       "      <td>720</td>\n",
       "      <td>11.333333</td>\n",
       "      <td>2377.000000</td>\n",
       "      <td>4310.0</td>\n",
       "    </tr>\n",
       "    <tr>\n",
       "      <th>18</th>\n",
       "      <td>2728089</td>\n",
       "      <td>0</td>\n",
       "      <td>15</td>\n",
       "      <td>5.500000</td>\n",
       "      <td>3441.200000</td>\n",
       "      <td>8658.0</td>\n",
       "    </tr>\n",
       "    <tr>\n",
       "      <th>6</th>\n",
       "      <td>2728095</td>\n",
       "      <td>0</td>\n",
       "      <td>177</td>\n",
       "      <td>8.250000</td>\n",
       "      <td>2572.910000</td>\n",
       "      <td>5530.0</td>\n",
       "    </tr>\n",
       "    <tr>\n",
       "      <th>16</th>\n",
       "      <td>2728107</td>\n",
       "      <td>0</td>\n",
       "      <td>115</td>\n",
       "      <td>5.250000</td>\n",
       "      <td>3227.610000</td>\n",
       "      <td>4790.0</td>\n",
       "    </tr>\n",
       "  </tbody>\n",
       "</table>\n",
       "</div>"
      ],
      "text/plain": [
       "    Customer  Y  Recency  Frequency  Monetary Value  Max Value\n",
       "29   2728046  0      160   6.333333     1743.555556     4230.0\n",
       "13   2728088  1      720  11.333333     2377.000000     4310.0\n",
       "18   2728089  0       15   5.500000     3441.200000     8658.0\n",
       "6    2728095  0      177   8.250000     2572.910000     5530.0\n",
       "16   2728107  0      115   5.250000     3227.610000     4790.0"
      ]
     },
     "execution_count": 871,
     "metadata": {},
     "output_type": "execute_result"
    }
   ],
   "source": [
    "group_max = group_max.groupby([\"CustomerID\"])[\"Sum\"].max().reset_index()\n",
    "max_values = group_max.CustomerID.values\n",
    "data[\"Max Value\"] = [group_max[\"Sum\"][i] if data[\"Customer\"][i] in max_values else 0 for i in range(len(data))]\n",
    "data.head()"
   ]
  },
  {
   "cell_type": "markdown",
   "metadata": {},
   "source": [
    "## Задание №3\n",
    "\n",
    "#### Для каждого клиента к уже рассчитанным характеристикам необходимо из второй таблицы притянуть данные по полу и возрасту клиента."
   ]
  },
  {
   "cell_type": "code",
   "execution_count": 872,
   "metadata": {},
   "outputs": [
    {
     "name": "stdout",
     "output_type": "stream",
     "text": [
      "    CustomerId  Y  Recency  Frequency  Monetary Value  Max Value\n",
      "29     2728046  0      160   6.333333     1743.555556     4230.0\n",
      "13     2728088  1      720  11.333333     2377.000000     4310.0\n",
      "18     2728089  0       15   5.500000     3441.200000     8658.0\n",
      "6      2728095  0      177   8.250000     2572.910000     5530.0\n",
      "16     2728107  0      115   5.250000     3227.610000     4790.0\n"
     ]
    }
   ],
   "source": [
    "data.rename(columns={'Customer':'CustomerId'}, inplace=True)\n",
    "print(data.head())\n",
    "full_data = pd.merge(data, data_person, how=\"inner\", on=\"CustomerId\")"
   ]
  },
  {
   "cell_type": "markdown",
   "metadata": {},
   "source": [
    "Удаляем строки с пропущенными данными и возвращаем удалённые индексы."
   ]
  },
  {
   "cell_type": "code",
   "execution_count": 873,
   "metadata": {},
   "outputs": [],
   "source": [
    "full_data = full_data.dropna()\n",
    "full_data = full_data.reset_index(drop=True)"
   ]
  },
  {
   "cell_type": "markdown",
   "metadata": {},
   "source": [
    "Заменяем строковые значения пола на булевы. "
   ]
  },
  {
   "cell_type": "code",
   "execution_count": 874,
   "metadata": {},
   "outputs": [
    {
     "data": {
      "text/html": [
       "<div>\n",
       "<style scoped>\n",
       "    .dataframe tbody tr th:only-of-type {\n",
       "        vertical-align: middle;\n",
       "    }\n",
       "\n",
       "    .dataframe tbody tr th {\n",
       "        vertical-align: top;\n",
       "    }\n",
       "\n",
       "    .dataframe thead th {\n",
       "        text-align: right;\n",
       "    }\n",
       "</style>\n",
       "<table border=\"1\" class=\"dataframe\">\n",
       "  <thead>\n",
       "    <tr style=\"text-align: right;\">\n",
       "      <th></th>\n",
       "      <th>CustomerId</th>\n",
       "      <th>Y</th>\n",
       "      <th>Recency</th>\n",
       "      <th>Frequency</th>\n",
       "      <th>Monetary Value</th>\n",
       "      <th>Max Value</th>\n",
       "      <th>Age</th>\n",
       "      <th>Sex</th>\n",
       "    </tr>\n",
       "  </thead>\n",
       "  <tbody>\n",
       "    <tr>\n",
       "      <th>count</th>\n",
       "      <td>8.856000e+03</td>\n",
       "      <td>8856.000000</td>\n",
       "      <td>8856.000000</td>\n",
       "      <td>8856.000000</td>\n",
       "      <td>8856.000000</td>\n",
       "      <td>8.856000e+03</td>\n",
       "      <td>8856.000000</td>\n",
       "      <td>8856.000000</td>\n",
       "    </tr>\n",
       "    <tr>\n",
       "      <th>mean</th>\n",
       "      <td>2.812411e+06</td>\n",
       "      <td>0.462737</td>\n",
       "      <td>257.350384</td>\n",
       "      <td>6.936896</td>\n",
       "      <td>2236.377655</td>\n",
       "      <td>7.247464e+03</td>\n",
       "      <td>32.814476</td>\n",
       "      <td>0.420845</td>\n",
       "    </tr>\n",
       "    <tr>\n",
       "      <th>std</th>\n",
       "      <td>6.226241e+04</td>\n",
       "      <td>0.498638</td>\n",
       "      <td>254.369466</td>\n",
       "      <td>4.604054</td>\n",
       "      <td>2924.324556</td>\n",
       "      <td>4.473165e+04</td>\n",
       "      <td>11.360298</td>\n",
       "      <td>0.493723</td>\n",
       "    </tr>\n",
       "    <tr>\n",
       "      <th>min</th>\n",
       "      <td>2.728046e+06</td>\n",
       "      <td>0.000000</td>\n",
       "      <td>0.000000</td>\n",
       "      <td>0.000000</td>\n",
       "      <td>0.000000</td>\n",
       "      <td>0.000000e+00</td>\n",
       "      <td>16.000000</td>\n",
       "      <td>0.000000</td>\n",
       "    </tr>\n",
       "    <tr>\n",
       "      <th>25%</th>\n",
       "      <td>2.756260e+06</td>\n",
       "      <td>0.000000</td>\n",
       "      <td>41.000000</td>\n",
       "      <td>4.625000</td>\n",
       "      <td>1188.386494</td>\n",
       "      <td>2.360750e+03</td>\n",
       "      <td>26.000000</td>\n",
       "      <td>0.000000</td>\n",
       "    </tr>\n",
       "    <tr>\n",
       "      <th>50%</th>\n",
       "      <td>2.795320e+06</td>\n",
       "      <td>0.000000</td>\n",
       "      <td>155.000000</td>\n",
       "      <td>6.000000</td>\n",
       "      <td>1730.011000</td>\n",
       "      <td>3.718065e+03</td>\n",
       "      <td>31.000000</td>\n",
       "      <td>0.000000</td>\n",
       "    </tr>\n",
       "    <tr>\n",
       "      <th>75%</th>\n",
       "      <td>2.880346e+06</td>\n",
       "      <td>1.000000</td>\n",
       "      <td>436.000000</td>\n",
       "      <td>7.833333</td>\n",
       "      <td>2521.225000</td>\n",
       "      <td>6.428033e+03</td>\n",
       "      <td>37.000000</td>\n",
       "      <td>1.000000</td>\n",
       "    </tr>\n",
       "    <tr>\n",
       "      <th>max</th>\n",
       "      <td>2.913132e+06</td>\n",
       "      <td>1.000000</td>\n",
       "      <td>912.000000</td>\n",
       "      <td>78.034483</td>\n",
       "      <td>117100.291818</td>\n",
       "      <td>3.342239e+06</td>\n",
       "      <td>218.000000</td>\n",
       "      <td>1.000000</td>\n",
       "    </tr>\n",
       "  </tbody>\n",
       "</table>\n",
       "</div>"
      ],
      "text/plain": [
       "         CustomerId            Y      Recency    Frequency  Monetary Value  \\\n",
       "count  8.856000e+03  8856.000000  8856.000000  8856.000000     8856.000000   \n",
       "mean   2.812411e+06     0.462737   257.350384     6.936896     2236.377655   \n",
       "std    6.226241e+04     0.498638   254.369466     4.604054     2924.324556   \n",
       "min    2.728046e+06     0.000000     0.000000     0.000000        0.000000   \n",
       "25%    2.756260e+06     0.000000    41.000000     4.625000     1188.386494   \n",
       "50%    2.795320e+06     0.000000   155.000000     6.000000     1730.011000   \n",
       "75%    2.880346e+06     1.000000   436.000000     7.833333     2521.225000   \n",
       "max    2.913132e+06     1.000000   912.000000    78.034483   117100.291818   \n",
       "\n",
       "          Max Value          Age          Sex  \n",
       "count  8.856000e+03  8856.000000  8856.000000  \n",
       "mean   7.247464e+03    32.814476     0.420845  \n",
       "std    4.473165e+04    11.360298     0.493723  \n",
       "min    0.000000e+00    16.000000     0.000000  \n",
       "25%    2.360750e+03    26.000000     0.000000  \n",
       "50%    3.718065e+03    31.000000     0.000000  \n",
       "75%    6.428033e+03    37.000000     1.000000  \n",
       "max    3.342239e+06   218.000000     1.000000  "
      ]
     },
     "execution_count": 874,
     "metadata": {},
     "output_type": "execute_result"
    }
   ],
   "source": [
    "full_data = full_data.replace({'Sex': {'Male': 1,'Female': 0}})\n",
    "full_data.describe()"
   ]
  },
  {
   "cell_type": "markdown",
   "metadata": {},
   "source": [
    "Удаляем все нереальные данные."
   ]
  },
  {
   "cell_type": "code",
   "execution_count": 875,
   "metadata": {},
   "outputs": [
    {
     "data": {
      "text/html": [
       "<div>\n",
       "<style scoped>\n",
       "    .dataframe tbody tr th:only-of-type {\n",
       "        vertical-align: middle;\n",
       "    }\n",
       "\n",
       "    .dataframe tbody tr th {\n",
       "        vertical-align: top;\n",
       "    }\n",
       "\n",
       "    .dataframe thead th {\n",
       "        text-align: right;\n",
       "    }\n",
       "</style>\n",
       "<table border=\"1\" class=\"dataframe\">\n",
       "  <thead>\n",
       "    <tr style=\"text-align: right;\">\n",
       "      <th></th>\n",
       "      <th>CustomerId</th>\n",
       "      <th>Y</th>\n",
       "      <th>Recency</th>\n",
       "      <th>Frequency</th>\n",
       "      <th>Monetary Value</th>\n",
       "      <th>Max Value</th>\n",
       "      <th>Age</th>\n",
       "      <th>Sex</th>\n",
       "    </tr>\n",
       "  </thead>\n",
       "  <tbody>\n",
       "    <tr>\n",
       "      <th>count</th>\n",
       "      <td>8.579000e+03</td>\n",
       "      <td>8579.000000</td>\n",
       "      <td>8579.000000</td>\n",
       "      <td>8579.000000</td>\n",
       "      <td>8579.000000</td>\n",
       "      <td>8579.000000</td>\n",
       "      <td>8579.000000</td>\n",
       "      <td>8579.000000</td>\n",
       "    </tr>\n",
       "    <tr>\n",
       "      <th>mean</th>\n",
       "      <td>2.811865e+06</td>\n",
       "      <td>0.458911</td>\n",
       "      <td>258.236275</td>\n",
       "      <td>6.721479</td>\n",
       "      <td>2061.362930</td>\n",
       "      <td>5758.252644</td>\n",
       "      <td>32.093834</td>\n",
       "      <td>0.421028</td>\n",
       "    </tr>\n",
       "    <tr>\n",
       "      <th>std</th>\n",
       "      <td>6.199364e+04</td>\n",
       "      <td>0.498338</td>\n",
       "      <td>253.611872</td>\n",
       "      <td>3.471082</td>\n",
       "      <td>1368.145688</td>\n",
       "      <td>6990.942145</td>\n",
       "      <td>8.025021</td>\n",
       "      <td>0.493753</td>\n",
       "    </tr>\n",
       "    <tr>\n",
       "      <th>min</th>\n",
       "      <td>2.728046e+06</td>\n",
       "      <td>0.000000</td>\n",
       "      <td>1.000000</td>\n",
       "      <td>1.000000</td>\n",
       "      <td>174.200000</td>\n",
       "      <td>215.000000</td>\n",
       "      <td>16.000000</td>\n",
       "      <td>0.000000</td>\n",
       "    </tr>\n",
       "    <tr>\n",
       "      <th>25%</th>\n",
       "      <td>2.756032e+06</td>\n",
       "      <td>0.000000</td>\n",
       "      <td>42.000000</td>\n",
       "      <td>4.636364</td>\n",
       "      <td>1198.583333</td>\n",
       "      <td>2368.000000</td>\n",
       "      <td>26.000000</td>\n",
       "      <td>0.000000</td>\n",
       "    </tr>\n",
       "    <tr>\n",
       "      <th>50%</th>\n",
       "      <td>2.793992e+06</td>\n",
       "      <td>0.000000</td>\n",
       "      <td>157.000000</td>\n",
       "      <td>5.965517</td>\n",
       "      <td>1728.500000</td>\n",
       "      <td>3709.000000</td>\n",
       "      <td>31.000000</td>\n",
       "      <td>0.000000</td>\n",
       "    </tr>\n",
       "    <tr>\n",
       "      <th>75%</th>\n",
       "      <td>2.879766e+06</td>\n",
       "      <td>1.000000</td>\n",
       "      <td>436.000000</td>\n",
       "      <td>7.750000</td>\n",
       "      <td>2496.429167</td>\n",
       "      <td>6343.255000</td>\n",
       "      <td>37.000000</td>\n",
       "      <td>1.000000</td>\n",
       "    </tr>\n",
       "    <tr>\n",
       "      <th>max</th>\n",
       "      <td>2.912502e+06</td>\n",
       "      <td>1.000000</td>\n",
       "      <td>912.000000</td>\n",
       "      <td>29.357143</td>\n",
       "      <td>9909.860000</td>\n",
       "      <td>88999.000000</td>\n",
       "      <td>83.000000</td>\n",
       "      <td>1.000000</td>\n",
       "    </tr>\n",
       "  </tbody>\n",
       "</table>\n",
       "</div>"
      ],
      "text/plain": [
       "         CustomerId            Y      Recency    Frequency  Monetary Value  \\\n",
       "count  8.579000e+03  8579.000000  8579.000000  8579.000000     8579.000000   \n",
       "mean   2.811865e+06     0.458911   258.236275     6.721479     2061.362930   \n",
       "std    6.199364e+04     0.498338   253.611872     3.471082     1368.145688   \n",
       "min    2.728046e+06     0.000000     1.000000     1.000000      174.200000   \n",
       "25%    2.756032e+06     0.000000    42.000000     4.636364     1198.583333   \n",
       "50%    2.793992e+06     0.000000   157.000000     5.965517     1728.500000   \n",
       "75%    2.879766e+06     1.000000   436.000000     7.750000     2496.429167   \n",
       "max    2.912502e+06     1.000000   912.000000    29.357143     9909.860000   \n",
       "\n",
       "          Max Value          Age          Sex  \n",
       "count   8579.000000  8579.000000  8579.000000  \n",
       "mean    5758.252644    32.093834     0.421028  \n",
       "std     6990.942145     8.025021     0.493753  \n",
       "min      215.000000    16.000000     0.000000  \n",
       "25%     2368.000000    26.000000     0.000000  \n",
       "50%     3709.000000    31.000000     0.000000  \n",
       "75%     6343.255000    37.000000     1.000000  \n",
       "max    88999.000000    83.000000     1.000000  "
      ]
     },
     "execution_count": 875,
     "metadata": {},
     "output_type": "execute_result"
    }
   ],
   "source": [
    "full_data = full_data[full_data.Frequency < 30]\n",
    "full_data = full_data[full_data[\"Monetary Value\"] < 10000]\n",
    "full_data = full_data[full_data[\"Max Value\"] < 100000]\n",
    "full_data = full_data[full_data.Recency > 0]\n",
    "full_data = full_data[full_data.Frequency > 0]\n",
    "full_data = full_data[full_data[\"Monetary Value\"] > 0]\n",
    "full_data = full_data[full_data[\"Max Value\"] > 0]\n",
    "full_data = full_data[full_data.Age < 100]\n",
    "full_data.describe()"
   ]
  },
  {
   "cell_type": "markdown",
   "metadata": {},
   "source": [
    "## Задание № 4\n",
    "\n",
    "#### Разбить клиентов случайно на две группы в соотношении 80:20. Большая группа — это обучающая выборка, а маленькая группа это тестовая выборка."
   ]
  },
  {
   "cell_type": "code",
   "execution_count": 876,
   "metadata": {},
   "outputs": [],
   "source": [
    "X = full_data[[\"Recency\", \"Frequency\", \"Monetary Value\", \"Max Value\", \"Age\", \"Sex\"]]\n",
    "y = full_data[[\"Y\"]].squeeze()\n",
    "X_train, X_test, y_train, y_test = train_test_split(X, y, test_size=0.2)"
   ]
  },
  {
   "cell_type": "markdown",
   "metadata": {},
   "source": [
    "## Задание № 5-7\n",
    "\n",
    "#### Обучить модель логистической регрессии на обучающей выборке.\n",
    "\n",
    "#### Предсказать вероятность прихода на тестовой выборке.\n",
    "\n",
    "#### Посчитать метрики Precision и Recall на основании предсказаний на тестовой выборке и истинных значений зависимой переменной Y."
   ]
  },
  {
   "cell_type": "code",
   "execution_count": 877,
   "metadata": {},
   "outputs": [
    {
     "name": "stdout",
     "output_type": "stream",
     "text": [
      "              precision    recall  f1-score   support\n",
      "\n",
      "           0       0.54      1.00      0.70       926\n",
      "           1       1.00      0.00      0.01       790\n",
      "\n",
      "    accuracy                           0.54      1716\n",
      "   macro avg       0.77      0.50      0.35      1716\n",
      "weighted avg       0.75      0.54      0.38      1716\n",
      "\n",
      "Model score: 0.5407925407925408\n"
     ]
    },
    {
     "name": "stderr",
     "output_type": "stream",
     "text": [
      "C:\\Users\\User\\Anaconda3\\lib\\site-packages\\sklearn\\linear_model\\logistic.py:432: FutureWarning: Default solver will be changed to 'lbfgs' in 0.22. Specify a solver to silence this warning.\n",
      "  FutureWarning)\n"
     ]
    }
   ],
   "source": [
    "logreg = LogisticRegression()\n",
    "logreg.fit(X_train, y_train)\n",
    "pred = logreg.predict(X_test)\n",
    "print(classification_report(y_test, pred))\n",
    "print('Model score:', logreg.score(X_test, y_test))"
   ]
  }
 ],
 "metadata": {
  "kernelspec": {
   "display_name": "Python 3",
   "language": "python",
   "name": "python3"
  },
  "language_info": {
   "codemirror_mode": {
    "name": "ipython",
    "version": 3
   },
   "file_extension": ".py",
   "mimetype": "text/x-python",
   "name": "python",
   "nbconvert_exporter": "python",
   "pygments_lexer": "ipython3",
   "version": "3.7.1"
  }
 },
 "nbformat": 4,
 "nbformat_minor": 2
}
