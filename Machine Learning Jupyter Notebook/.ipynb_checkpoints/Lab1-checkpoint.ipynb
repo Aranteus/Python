{
 "cells": [
  {
   "cell_type": "code",
   "execution_count": 7,
   "metadata": {},
   "outputs": [],
   "source": [
    "import pandas as pd"
   ]
  },
  {
   "cell_type": "code",
   "execution_count": 9,
   "metadata": {},
   "outputs": [
    {
     "name": "stdout",
     "output_type": "stream",
     "text": [
      "   CustomerId ActivationDate   Age     Sex  SubscribedEmail  SubscribedPush\n",
      "0     2728183     2015-01-01  21.0  Female            False            True\n",
      "1     2728198     2015-01-01  21.0  Female             True            True\n",
      "2     2728306     2015-01-01  21.0  Female             True            True\n",
      "3     2728178     2015-01-01  22.0    Male             True            True\n",
      "4     2728322     2015-01-01  22.0    Male             True            True\n"
     ]
    }
   ],
   "source": [
    "data_person = pd.read_csv(\"CASC_Constant.csv\")\n",
    "print(data_person.head())"
   ]
  },
  {
   "cell_type": "code",
   "execution_count": 16,
   "metadata": {},
   "outputs": [
    {
     "name": "stdout",
     "output_type": "stream",
     "text": [
      "   CustomerID  Restaurant      RKDate                    RegionName  \\\n",
      "0     2898197         391  2017-07-16  Москва и Московская область    \n",
      "1     2903215          43  2015-04-07  Москва и Московская область    \n",
      "2     2748887          43  2015-05-22  Москва и Московская область    \n",
      "3     2862077          46  2015-03-05  Москва и Московская область    \n",
      "4     2862077          46  2015-03-11  Москва и Московская область    \n",
      "\n",
      "   BrandsNames DishCategoryName  Quantity  SummBasic  SummAfterPointsUsage  \n",
      "0  TGI FRIDAYS      NON ALCOHOL         2          2                   2.0  \n",
      "1     IL Патио      NON ALCOHOL         1          5                   5.0  \n",
      "2     IL Патио      NON ALCOHOL         1          5                   5.0  \n",
      "3     IL Патио      NON ALCOHOL         1          5                   5.0  \n",
      "4     IL Патио      NON ALCOHOL         1          5                   5.0  \n"
     ]
    }
   ],
   "source": [
    "data_transact = pd.read_csv(\"casc-resto-small.csv\")\n",
    "print(data_transact.head())"
   ]
  },
  {
   "cell_type": "code",
   "execution_count": 19,
   "metadata": {},
   "outputs": [
    {
     "name": "stdout",
     "output_type": "stream",
     "text": [
      "         CustomerID   Restaurant     Quantity    SummBasic  \\\n",
      "count  1.000000e+03  1000.000000  1000.000000  1000.000000   \n",
      "mean   2.801380e+06   243.463000     1.101000     8.944000   \n",
      "std    5.994973e+04   258.801799     0.418299     2.039859   \n",
      "min    2.728549e+06    40.000000     1.000000     2.000000   \n",
      "25%    2.751840e+06    54.000000     1.000000    10.000000   \n",
      "50%    2.771859e+06   116.000000     1.000000    10.000000   \n",
      "75%    2.862317e+06   392.000000     1.000000    10.000000   \n",
      "max    2.913068e+06   934.000000     5.000000    10.000000   \n",
      "\n",
      "       SummAfterPointsUsage  \n",
      "count           1000.000000  \n",
      "mean               8.099960  \n",
      "std                2.451883  \n",
      "min                2.000000  \n",
      "25%                5.020000  \n",
      "50%               10.000000  \n",
      "75%               10.000000  \n",
      "max               10.000000  \n",
      "<class 'pandas.core.frame.DataFrame'>\n",
      "RangeIndex: 1000 entries, 0 to 999\n",
      "Data columns (total 9 columns):\n",
      "CustomerID              1000 non-null int64\n",
      "Restaurant              1000 non-null int64\n",
      "RKDate                  1000 non-null object\n",
      "RegionName              1000 non-null object\n",
      "BrandsNames             1000 non-null object\n",
      "DishCategoryName        1000 non-null object\n",
      "Quantity                1000 non-null int64\n",
      "SummBasic               1000 non-null int64\n",
      "SummAfterPointsUsage    1000 non-null float64\n",
      "dtypes: float64(1), int64(4), object(4)\n",
      "memory usage: 70.4+ KB\n",
      "None\n"
     ]
    }
   ],
   "source": [
    "print(data_transact.describe())\n",
    "print(data_transact.info())"
   ]
  },
  {
   "cell_type": "code",
   "execution_count": 30,
   "metadata": {},
   "outputs": [
    {
     "data": {
      "text/html": [
       "<div>\n",
       "<style scoped>\n",
       "    .dataframe tbody tr th:only-of-type {\n",
       "        vertical-align: middle;\n",
       "    }\n",
       "\n",
       "    .dataframe tbody tr th {\n",
       "        vertical-align: top;\n",
       "    }\n",
       "\n",
       "    .dataframe thead th {\n",
       "        text-align: right;\n",
       "    }\n",
       "</style>\n",
       "<table border=\"1\" class=\"dataframe\">\n",
       "  <thead>\n",
       "    <tr style=\"text-align: right;\">\n",
       "      <th></th>\n",
       "      <th>CustomerID</th>\n",
       "      <th>Restaurant</th>\n",
       "      <th>RKDate</th>\n",
       "      <th>RegionName</th>\n",
       "      <th>BrandsNames</th>\n",
       "      <th>DishCategoryName</th>\n",
       "      <th>Quantity</th>\n",
       "      <th>SummBasic</th>\n",
       "      <th>SummAfterPointsUsage</th>\n",
       "    </tr>\n",
       "  </thead>\n",
       "  <tbody>\n",
       "    <tr>\n",
       "      <th>212</th>\n",
       "      <td>2758212</td>\n",
       "      <td>721</td>\n",
       "      <td>2015-06-17</td>\n",
       "      <td>Москва и Московская область</td>\n",
       "      <td>IL Патио,Планета Суши</td>\n",
       "      <td>FOOD</td>\n",
       "      <td>5</td>\n",
       "      <td>9</td>\n",
       "      <td>5.07</td>\n",
       "    </tr>\n",
       "    <tr>\n",
       "      <th>222</th>\n",
       "      <td>2750233</td>\n",
       "      <td>40</td>\n",
       "      <td>2016-11-18</td>\n",
       "      <td>Москва и Московская область</td>\n",
       "      <td>Американский Бар и Гриль</td>\n",
       "      <td>FOOD</td>\n",
       "      <td>2</td>\n",
       "      <td>10</td>\n",
       "      <td>5.00</td>\n",
       "    </tr>\n",
       "    <tr>\n",
       "      <th>226</th>\n",
       "      <td>2730340</td>\n",
       "      <td>43</td>\n",
       "      <td>2015-01-03</td>\n",
       "      <td>Москва и Московская область</td>\n",
       "      <td>IL Патио</td>\n",
       "      <td>NON ALCOHOL</td>\n",
       "      <td>2</td>\n",
       "      <td>10</td>\n",
       "      <td>9.86</td>\n",
       "    </tr>\n",
       "    <tr>\n",
       "      <th>236</th>\n",
       "      <td>2888593</td>\n",
       "      <td>43</td>\n",
       "      <td>2015-05-24</td>\n",
       "      <td>Москва и Московская область</td>\n",
       "      <td>IL Патио</td>\n",
       "      <td>NON ALCOHOL</td>\n",
       "      <td>2</td>\n",
       "      <td>10</td>\n",
       "      <td>5.10</td>\n",
       "    </tr>\n",
       "    <tr>\n",
       "      <th>246</th>\n",
       "      <td>2733081</td>\n",
       "      <td>43</td>\n",
       "      <td>2015-08-16</td>\n",
       "      <td>Москва и Московская область</td>\n",
       "      <td>IL Патио</td>\n",
       "      <td>FOOD</td>\n",
       "      <td>2</td>\n",
       "      <td>10</td>\n",
       "      <td>6.26</td>\n",
       "    </tr>\n",
       "  </tbody>\n",
       "</table>\n",
       "</div>"
      ],
      "text/plain": [
       "     CustomerID  Restaurant      RKDate                    RegionName  \\\n",
       "212     2758212         721  2015-06-17  Москва и Московская область    \n",
       "222     2750233          40  2016-11-18  Москва и Московская область    \n",
       "226     2730340          43  2015-01-03  Москва и Московская область    \n",
       "236     2888593          43  2015-05-24  Москва и Московская область    \n",
       "246     2733081          43  2015-08-16  Москва и Московская область    \n",
       "\n",
       "                  BrandsNames DishCategoryName  Quantity  SummBasic  \\\n",
       "212     IL Патио,Планета Суши             FOOD         5          9   \n",
       "222  Американский Бар и Гриль             FOOD         2         10   \n",
       "226                  IL Патио      NON ALCOHOL         2         10   \n",
       "236                  IL Патио      NON ALCOHOL         2         10   \n",
       "246                  IL Патио             FOOD         2         10   \n",
       "\n",
       "     SummAfterPointsUsage  \n",
       "212                  5.07  \n",
       "222                  5.00  \n",
       "226                  9.86  \n",
       "236                  5.10  \n",
       "246                  6.26  "
      ]
     },
     "execution_count": 30,
     "metadata": {},
     "output_type": "execute_result"
    }
   ],
   "source": [
    "data_transact[(data_transact.SummAfterPointsUsage != data_transact.SummBasic) & (data_transact.Quantity != 1)].head()"
   ]
  },
  {
   "cell_type": "code",
   "execution_count": 20,
   "metadata": {},
   "outputs": [
    {
     "data": {
      "text/html": [
       "<div>\n",
       "<style scoped>\n",
       "    .dataframe tbody tr th:only-of-type {\n",
       "        vertical-align: middle;\n",
       "    }\n",
       "\n",
       "    .dataframe tbody tr th {\n",
       "        vertical-align: top;\n",
       "    }\n",
       "\n",
       "    .dataframe thead th {\n",
       "        text-align: right;\n",
       "    }\n",
       "</style>\n",
       "<table border=\"1\" class=\"dataframe\">\n",
       "  <thead>\n",
       "    <tr style=\"text-align: right;\">\n",
       "      <th></th>\n",
       "      <th>CustomerID</th>\n",
       "      <th>Restaurant</th>\n",
       "      <th>RKDate</th>\n",
       "      <th>RegionName</th>\n",
       "      <th>BrandsNames</th>\n",
       "      <th>DishCategoryName</th>\n",
       "      <th>Quantity</th>\n",
       "      <th>SummBasic</th>\n",
       "      <th>SummAfterPointsUsage</th>\n",
       "    </tr>\n",
       "  </thead>\n",
       "  <tbody>\n",
       "  </tbody>\n",
       "</table>\n",
       "</div>"
      ],
      "text/plain": [
       "Empty DataFrame\n",
       "Columns: [CustomerID, Restaurant, RKDate, RegionName, BrandsNames, DishCategoryName, Quantity, SummBasic, SummAfterPointsUsage]\n",
       "Index: []"
      ]
     },
     "execution_count": 20,
     "metadata": {},
     "output_type": "execute_result"
    }
   ],
   "source": [
    "data_transact[data_transact.SummAfterPointsUsage > data_transact.SummBasic]"
   ]
  },
  {
   "cell_type": "code",
   "execution_count": 28,
   "metadata": {},
   "outputs": [
    {
     "name": "stdout",
     "output_type": "stream",
     "text": [
      "   CustomerID  Restaurant     RKDate                    RegionName  \\\n",
      "0     2898197         391 2017-07-16  Москва и Московская область    \n",
      "1     2903215          43 2015-04-07  Москва и Московская область    \n",
      "2     2748887          43 2015-05-22  Москва и Московская область    \n",
      "3     2862077          46 2015-03-05  Москва и Московская область    \n",
      "4     2862077          46 2015-03-11  Москва и Московская область    \n",
      "\n",
      "   BrandsNames DishCategoryName  Quantity  SummBasic  SummAfterPointsUsage  \n",
      "0  TGI FRIDAYS      NON ALCOHOL         2          2                   2.0  \n",
      "1     IL Патио      NON ALCOHOL         1          5                   5.0  \n",
      "2     IL Патио      NON ALCOHOL         1          5                   5.0  \n",
      "3     IL Патио      NON ALCOHOL         1          5                   5.0  \n",
      "4     IL Патио      NON ALCOHOL         1          5                   5.0  \n"
     ]
    },
    {
     "data": {
      "text/plain": [
       "pandas._libs.tslibs.timestamps.Timestamp"
      ]
     },
     "execution_count": 28,
     "metadata": {},
     "output_type": "execute_result"
    }
   ],
   "source": [
    "data_transact.RKDate = pd.to_datetime(data_transact.RKDate)\n",
    "print(data_transact.head())\n",
    "type(data_transact.RKDate[0])"
   ]
  },
  {
   "cell_type": "code",
   "execution_count": 32,
   "metadata": {},
   "outputs": [
    {
     "data": {
      "text/html": [
       "<div>\n",
       "<style scoped>\n",
       "    .dataframe tbody tr th:only-of-type {\n",
       "        vertical-align: middle;\n",
       "    }\n",
       "\n",
       "    .dataframe tbody tr th {\n",
       "        vertical-align: top;\n",
       "    }\n",
       "\n",
       "    .dataframe thead th {\n",
       "        text-align: right;\n",
       "    }\n",
       "</style>\n",
       "<table border=\"1\" class=\"dataframe\">\n",
       "  <thead>\n",
       "    <tr style=\"text-align: right;\">\n",
       "      <th></th>\n",
       "      <th>CustomerID</th>\n",
       "      <th>Restaurant</th>\n",
       "      <th>RKDate</th>\n",
       "      <th>RegionName</th>\n",
       "      <th>BrandsNames</th>\n",
       "      <th>DishCategoryName</th>\n",
       "      <th>Quantity</th>\n",
       "      <th>SummBasic</th>\n",
       "      <th>SummAfterPointsUsage</th>\n",
       "    </tr>\n",
       "  </thead>\n",
       "  <tbody>\n",
       "    <tr>\n",
       "      <th>209</th>\n",
       "      <td>2767598</td>\n",
       "      <td>450</td>\n",
       "      <td>2017-11-22</td>\n",
       "      <td>Москва и Московская область</td>\n",
       "      <td>Мама Раша</td>\n",
       "      <td>FOOD</td>\n",
       "      <td>1</td>\n",
       "      <td>9</td>\n",
       "      <td>7.00</td>\n",
       "    </tr>\n",
       "    <tr>\n",
       "      <th>773</th>\n",
       "      <td>2768840</td>\n",
       "      <td>183</td>\n",
       "      <td>2017-11-29</td>\n",
       "      <td>Новосибирск</td>\n",
       "      <td>IL Патио</td>\n",
       "      <td>NON ALCOHOL</td>\n",
       "      <td>1</td>\n",
       "      <td>10</td>\n",
       "      <td>10.00</td>\n",
       "    </tr>\n",
       "    <tr>\n",
       "      <th>717</th>\n",
       "      <td>2821271</td>\n",
       "      <td>129</td>\n",
       "      <td>2017-12-28</td>\n",
       "      <td>Москва и Московская область</td>\n",
       "      <td>IL Патио</td>\n",
       "      <td>FOOD</td>\n",
       "      <td>1</td>\n",
       "      <td>10</td>\n",
       "      <td>10.00</td>\n",
       "    </tr>\n",
       "    <tr>\n",
       "      <th>803</th>\n",
       "      <td>2750656</td>\n",
       "      <td>295</td>\n",
       "      <td>2017-12-29</td>\n",
       "      <td>Москва и Московская область</td>\n",
       "      <td>Шикари</td>\n",
       "      <td>FOOD</td>\n",
       "      <td>1</td>\n",
       "      <td>10</td>\n",
       "      <td>6.87</td>\n",
       "    </tr>\n",
       "    <tr>\n",
       "      <th>849</th>\n",
       "      <td>2748926</td>\n",
       "      <td>390</td>\n",
       "      <td>2017-12-30</td>\n",
       "      <td>Москва и Московская область</td>\n",
       "      <td>IL Патио</td>\n",
       "      <td>FOOD</td>\n",
       "      <td>1</td>\n",
       "      <td>10</td>\n",
       "      <td>10.00</td>\n",
       "    </tr>\n",
       "  </tbody>\n",
       "</table>\n",
       "</div>"
      ],
      "text/plain": [
       "     CustomerID  Restaurant     RKDate                    RegionName  \\\n",
       "209     2767598         450 2017-11-22  Москва и Московская область    \n",
       "773     2768840         183 2017-11-29                   Новосибирск   \n",
       "717     2821271         129 2017-12-28  Москва и Московская область    \n",
       "803     2750656         295 2017-12-29  Москва и Московская область    \n",
       "849     2748926         390 2017-12-30  Москва и Московская область    \n",
       "\n",
       "    BrandsNames DishCategoryName  Quantity  SummBasic  SummAfterPointsUsage  \n",
       "209   Мама Раша             FOOD         1          9                  7.00  \n",
       "773    IL Патио      NON ALCOHOL         1         10                 10.00  \n",
       "717    IL Патио             FOOD         1         10                 10.00  \n",
       "803      Шикари             FOOD         1         10                  6.87  \n",
       "849    IL Патио             FOOD         1         10                 10.00  "
      ]
     },
     "execution_count": 32,
     "metadata": {},
     "output_type": "execute_result"
    }
   ],
   "source": [
    "data_transact = data_transact.sort_values(\"RKDate\")\n",
    "data_transact.tail()"
   ]
  },
  {
   "cell_type": "code",
   "execution_count": 37,
   "metadata": {},
   "outputs": [
    {
     "data": {
      "text/html": [
       "<div>\n",
       "<style scoped>\n",
       "    .dataframe tbody tr th:only-of-type {\n",
       "        vertical-align: middle;\n",
       "    }\n",
       "\n",
       "    .dataframe tbody tr th {\n",
       "        vertical-align: top;\n",
       "    }\n",
       "\n",
       "    .dataframe thead th {\n",
       "        text-align: right;\n",
       "    }\n",
       "</style>\n",
       "<table border=\"1\" class=\"dataframe\">\n",
       "  <thead>\n",
       "    <tr style=\"text-align: right;\">\n",
       "      <th></th>\n",
       "      <th>CustomerID</th>\n",
       "      <th>Restaurant</th>\n",
       "      <th>RKDate</th>\n",
       "      <th>RegionName</th>\n",
       "      <th>BrandsNames</th>\n",
       "      <th>DishCategoryName</th>\n",
       "      <th>Quantity</th>\n",
       "      <th>SummBasic</th>\n",
       "      <th>SummAfterPointsUsage</th>\n",
       "    </tr>\n",
       "  </thead>\n",
       "  <tbody>\n",
       "  </tbody>\n",
       "</table>\n",
       "</div>"
      ],
      "text/plain": [
       "Empty DataFrame\n",
       "Columns: [CustomerID, Restaurant, RKDate, RegionName, BrandsNames, DishCategoryName, Quantity, SummBasic, SummAfterPointsUsage]\n",
       "Index: []"
      ]
     },
     "execution_count": 37,
     "metadata": {},
     "output_type": "execute_result"
    }
   ],
   "source": [
    "data_transact[data_transact.RKDate == pd.to_datetime('2017-07-01')].head()"
   ]
  },
  {
   "cell_type": "code",
   "execution_count": 104,
   "metadata": {},
   "outputs": [
    {
     "data": {
      "text/html": [
       "<div>\n",
       "<style scoped>\n",
       "    .dataframe tbody tr th:only-of-type {\n",
       "        vertical-align: middle;\n",
       "    }\n",
       "\n",
       "    .dataframe tbody tr th {\n",
       "        vertical-align: top;\n",
       "    }\n",
       "\n",
       "    .dataframe thead th {\n",
       "        text-align: right;\n",
       "    }\n",
       "</style>\n",
       "<table border=\"1\" class=\"dataframe\">\n",
       "  <thead>\n",
       "    <tr style=\"text-align: right;\">\n",
       "      <th></th>\n",
       "      <th>CustomerID</th>\n",
       "      <th>Restaurant</th>\n",
       "      <th>RKDate</th>\n",
       "      <th>RegionName</th>\n",
       "      <th>BrandsNames</th>\n",
       "      <th>DishCategoryName</th>\n",
       "      <th>Quantity</th>\n",
       "      <th>SummBasic</th>\n",
       "      <th>SummAfterPointsUsage</th>\n",
       "    </tr>\n",
       "  </thead>\n",
       "  <tbody>\n",
       "    <tr>\n",
       "      <th>271</th>\n",
       "      <td>2910374</td>\n",
       "      <td>43</td>\n",
       "      <td>2017-07-06</td>\n",
       "      <td>Москва и Московская область</td>\n",
       "      <td>IL Патио</td>\n",
       "      <td>FOOD</td>\n",
       "      <td>1</td>\n",
       "      <td>10</td>\n",
       "      <td>10.00</td>\n",
       "    </tr>\n",
       "    <tr>\n",
       "      <th>683</th>\n",
       "      <td>2831289</td>\n",
       "      <td>93</td>\n",
       "      <td>2017-07-15</td>\n",
       "      <td>Москва и Московская область</td>\n",
       "      <td>IL Патио</td>\n",
       "      <td>FOOD</td>\n",
       "      <td>1</td>\n",
       "      <td>10</td>\n",
       "      <td>4.99</td>\n",
       "    </tr>\n",
       "    <tr>\n",
       "      <th>0</th>\n",
       "      <td>2898197</td>\n",
       "      <td>391</td>\n",
       "      <td>2017-07-16</td>\n",
       "      <td>Москва и Московская область</td>\n",
       "      <td>TGI FRIDAYS</td>\n",
       "      <td>NON ALCOHOL</td>\n",
       "      <td>2</td>\n",
       "      <td>2</td>\n",
       "      <td>2.00</td>\n",
       "    </tr>\n",
       "    <tr>\n",
       "      <th>814</th>\n",
       "      <td>2913068</td>\n",
       "      <td>298</td>\n",
       "      <td>2017-08-02</td>\n",
       "      <td>Москва и Московская область</td>\n",
       "      <td>Шикари</td>\n",
       "      <td>FOOD</td>\n",
       "      <td>1</td>\n",
       "      <td>10</td>\n",
       "      <td>10.00</td>\n",
       "    </tr>\n",
       "    <tr>\n",
       "      <th>417</th>\n",
       "      <td>2751226</td>\n",
       "      <td>49</td>\n",
       "      <td>2017-08-03</td>\n",
       "      <td>Москва и Московская область</td>\n",
       "      <td>IL Патио</td>\n",
       "      <td>FOOD</td>\n",
       "      <td>1</td>\n",
       "      <td>10</td>\n",
       "      <td>8.92</td>\n",
       "    </tr>\n",
       "  </tbody>\n",
       "</table>\n",
       "</div>"
      ],
      "text/plain": [
       "     CustomerID  Restaurant     RKDate                    RegionName  \\\n",
       "271     2910374          43 2017-07-06  Москва и Московская область    \n",
       "683     2831289          93 2017-07-15  Москва и Московская область    \n",
       "0       2898197         391 2017-07-16  Москва и Московская область    \n",
       "814     2913068         298 2017-08-02  Москва и Московская область    \n",
       "417     2751226          49 2017-08-03  Москва и Московская область    \n",
       "\n",
       "     BrandsNames DishCategoryName  Quantity  SummBasic  SummAfterPointsUsage  \n",
       "271     IL Патио             FOOD         1         10                 10.00  \n",
       "683     IL Патио             FOOD         1         10                  4.99  \n",
       "0    TGI FRIDAYS      NON ALCOHOL         2          2                  2.00  \n",
       "814       Шикари             FOOD         1         10                 10.00  \n",
       "417     IL Патио             FOOD         1         10                  8.92  "
      ]
     },
     "execution_count": 104,
     "metadata": {},
     "output_type": "execute_result"
    }
   ],
   "source": [
    "data_transact[data_transact.RKDate >= pd.to_datetime('2017-07-01')].head()"
   ]
  },
  {
   "cell_type": "code",
   "execution_count": 91,
   "metadata": {},
   "outputs": [
    {
     "data": {
      "text/plain": [
       "463"
      ]
     },
     "execution_count": 91,
     "metadata": {},
     "output_type": "execute_result"
    }
   ],
   "source": [
    "rkdate = data_transact.RKDate[(data_transact.RKDate >= pd.to_datetime('2017-07-01')) & (data_transact.RKDate <= pd.to_datetime('2017-12-31'))]"
   ]
  },
  {
   "cell_type": "code",
   "execution_count": 135,
   "metadata": {},
   "outputs": [
    {
     "data": {
      "text/plain": [
       "CustomerID  RKDate    \n",
       "2732734     2017-10-22    1\n",
       "2743625     2017-11-07    1\n",
       "2747453     2017-11-11    1\n",
       "2748926     2017-12-30    1\n",
       "2749468     2017-08-05    1\n",
       "2750656     2017-12-29    1\n",
       "2751226     2017-08-03    2\n",
       "2756140     2017-08-28    1\n",
       "2767598     2017-11-22    1\n",
       "2768840     2017-11-29    1\n",
       "2798123     2017-11-19    2\n",
       "2814898     2017-09-19    1\n",
       "2820372     2017-11-06    1\n",
       "2821271     2017-12-28    1\n",
       "2831289     2017-07-15    1\n",
       "2838143     2017-11-20    1\n",
       "2884152     2017-08-18    1\n",
       "2898197     2017-07-16    1\n",
       "2910374     2017-07-06    1\n",
       "2912991     2017-11-18    1\n",
       "2913068     2017-08-02    1\n",
       "Name: Restaurant, dtype: int64"
      ]
     },
     "execution_count": 135,
     "metadata": {},
     "output_type": "execute_result"
    }
   ],
   "source": [
    "data_transact.groupby([\"CustomerID\", rkdate]).count()['Restaurant']"
   ]
  },
  {
   "cell_type": "code",
   "execution_count": 146,
   "metadata": {},
   "outputs": [
    {
     "data": {
      "text/plain": [
       "CustomerID  RKDate    \n",
       "2732734     2017-10-22    1\n",
       "Name: Restaurant, dtype: int64"
      ]
     },
     "execution_count": 146,
     "metadata": {},
     "output_type": "execute_result"
    }
   ],
   "source": []
  },
  {
   "cell_type": "code",
   "execution_count": null,
   "metadata": {},
   "outputs": [],
   "source": []
  }
 ],
 "metadata": {
  "kernelspec": {
   "display_name": "Python 3",
   "language": "python",
   "name": "python3"
  },
  "language_info": {
   "codemirror_mode": {
    "name": "ipython",
    "version": 3
   },
   "file_extension": ".py",
   "mimetype": "text/x-python",
   "name": "python",
   "nbconvert_exporter": "python",
   "pygments_lexer": "ipython3",
   "version": "3.7.1"
  }
 },
 "nbformat": 4,
 "nbformat_minor": 2
}
